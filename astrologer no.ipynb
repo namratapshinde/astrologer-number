{
 "cells": [
  {
   "cell_type": "code",
   "execution_count": null,
   "id": "3c5b341a-b558-44a0-9869-b0d5a0f7109e",
   "metadata": {},
   "outputs": [],
   "source": [
    "# Exercise:- 4\n",
    "#Astrologer no\n",
    "\n",
    "user=int(input(\"Enter the number you want to print Star.\"))\n",
    "position=int(input(\"Enter the 0 to print tringle or enter the 1 to print tringle descnding order.\"))\n",
    "con=bool(position)\n",
    "\n",
    "if con==False:\n",
    "    i=1\n",
    "    while i<=user:\n",
    "        print(\"*\"*(i))\n",
    "        i+=1\n",
    "elif con==True:\n",
    "    i=1\n",
    "    while i<=user:\n",
    "        print(\"*\"*user)\n",
    "        user-=1\n"
   ]
  }
 ],
 "metadata": {
  "kernelspec": {
   "display_name": "Python 3 (ipykernel)",
   "language": "python",
   "name": "python3"
  },
  "language_info": {
   "codemirror_mode": {
    "name": "ipython",
    "version": 3
   },
   "file_extension": ".py",
   "mimetype": "text/x-python",
   "name": "python",
   "nbconvert_exporter": "python",
   "pygments_lexer": "ipython3",
   "version": "3.12.4"
  }
 },
 "nbformat": 4,
 "nbformat_minor": 5
}
